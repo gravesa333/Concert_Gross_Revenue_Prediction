{
 "cells": [
  {
   "cell_type": "markdown",
   "metadata": {},
   "source": [
    "# Data Cleaning in SQL"
   ]
  },
  {
   "cell_type": "markdown",
   "metadata": {},
   "source": [
    "# Access Database"
   ]
  },
  {
   "cell_type": "code",
   "execution_count": 1,
   "metadata": {},
   "outputs": [],
   "source": [
    "import psycopg2 as pg\n",
    "import pandas as pd\n",
    "import pandas.io.sql as pd_sql\n",
    "\n",
    "import pickle\n",
    "import matplotlib.pyplot as plt\n",
    "%matplotlib inline\n",
    "\n",
    "pd.set_option('display.max_columns', None)\n",
    "pd.set_option('display.max_rows', 200)\n",
    "pd.set_option('display.precision', 3)"
   ]
  },
  {
   "cell_type": "code",
   "execution_count": 2,
   "metadata": {},
   "outputs": [],
   "source": [
    "plt.style.use('ggplot')\n",
    "plt.rc('font', size=18)"
   ]
  },
  {
   "cell_type": "code",
   "execution_count": 3,
   "metadata": {},
   "outputs": [],
   "source": [
    "# Postgres info to connect\n",
    "\n",
    "connection_args = {\n",
    "                   'host': 'localhost',  # Connecting to local version of psql\n",
    "                   'dbname': 'fox_ticket_sales',    # DB that we are connecting to\n",
    "                   'port': 5432          # port opened on AWS\n",
    "                  }\n",
    "\n",
    "connection = pg.connect(**connection_args)"
   ]
  },
  {
   "cell_type": "code",
   "execution_count": 4,
   "metadata": {},
   "outputs": [],
   "source": [
    "cursor = connection.cursor()"
   ]
  },
  {
   "cell_type": "markdown",
   "metadata": {},
   "source": [
    "# Data Cleaning"
   ]
  },
  {
   "cell_type": "markdown",
   "metadata": {},
   "source": [
    "- There are a number of shows listed that have no ticket sales data. These will be removed from the dataset.\n",
    "- There are a number of columns that are unnecessary for analysis and will be removed. See below:\n",
    "    - gross_gate\n",
    "    - currency\n",
    "    - venue_name\n",
    "    - venue_city\n",
    "    - venue_state\n",
    "    - venue_country\n",
    "    - promoter\n",
    "- **Assumptions**\n",
    "    - For any concert that has a max ticket price of $0.00, assume that the price for all tickets is the minimum ticket price (i.e. min ticket price = max ticket price)\n",
    "    - For co-headlining tours, there are multiple acts listed as headliners; the first act listed in the headliner column will be treated as the show's headliner.  For each co-headliner, add 2 to num_support column (i.e. co-headliners hold twice the weight of a regular supporting act). This will make it easier to interpret artist features later on.\n",
    "    - For any show with more than 4 supporting acts, it is very likely to be billed as a \"festival\". A new feature called \"show_type\" will be created to label each show as a single headliner, co-headliner, or festival\n",
    "- **Add the following time-based features**\n",
    "    - Year\n",
    "    - Month\n",
    "    - Season\n",
    "    - Day of Week\n",
    "    - Time of Week (Weekday vs Weekend)"
   ]
  },
  {
   "cell_type": "code",
   "execution_count": 5,
   "metadata": {},
   "outputs": [],
   "source": [
    "# drop_views = \"\"\"    \n",
    "#               DROP VIEW v_past_shows;\n",
    "#               DROP TABLE IF EXISTs past_shows;\n",
    "#               \"\"\"\n",
    "\n",
    "# cursor.execute(drop_views)\n",
    "# cursor.execute('commit;')"
   ]
  },
  {
   "cell_type": "code",
   "execution_count": 6,
   "metadata": {},
   "outputs": [],
   "source": [
    "past_shows_view = \"\"\" \n",
    "                  CREATE VIEW v_past_shows AS\n",
    "                         WITH past_shows_cte AS (\n",
    "                                                 SELECT event_date::date AS event_date,\n",
    "                                                        DATE_PART('year', event_date::date)::int AS year,\n",
    "                                                        DATE_PART('month', event_date::date)::int AS month,\n",
    "                                                        DATE_PART('dow', event_date::date) AS day_of_week,\n",
    "                                                        num_shows,\n",
    "                                                        headliner,\n",
    "                                                        support,\n",
    "                                                        CASE WHEN support IS NOT NULL AND (LENGTH(headliner) - LENGTH(REPLACE(headliner, '/', '')) + 1 > 1)\n",
    "                                                             THEN LENGTH(support) - LENGTH(REPLACE(support, ',', '')) + 1 + 2*(LENGTH(headliner) - LENGTH(REPLACE(headliner, '/', '')))\n",
    "                                                             WHEN support IS NULL AND (LENGTH(headliner) - LENGTH(REPLACE(headliner, '/', '')) + 1 > 1)\n",
    "                                                             THEN 2*(LENGTH(headliner) - LENGTH(REPLACE(headliner, '/', '')))\n",
    "                                                             WHEN support IS NULL\n",
    "                                                             THEN 0\n",
    "                                                             ELSE LENGTH(support) - LENGTH(REPLACE(support, ',', '')) + 1\n",
    "                                                         END AS num_support,\n",
    "                                                        tickets_sold,\n",
    "                                                        gross_usd,\n",
    "                                                        venue_capacity,\n",
    "                                                        percentage_sold,\n",
    "                                                        ticket_price_min,\n",
    "                                                        ticket_price_max\n",
    "                                                   FROM ticket_sales\n",
    "                                                  WHERE tickets_sold IS NOT NULL\n",
    "                                                )\n",
    "\n",
    "                  SELECT event_date,\n",
    "                         year,\n",
    "                         TO_CHAR(event_date::date, 'Month') AS month,\n",
    "                         CASE WHEN month IN (12,1,2) THEN 'Winter'\n",
    "                              WHEN month IN  (3,4,5) THEN 'Spring'\n",
    "                              WHEN month IN  (6,7,8) THEN 'Summer'\n",
    "                              ELSE 'Autumn'\n",
    "                               END AS season,\n",
    "                         TO_CHAR(event_date::date, 'Day') AS day_of_week,\n",
    "                         CASE WHEN day_of_week IN (0,1,2,3) THEN 'Weekday'\n",
    "                              ELSE 'Weekend'\n",
    "                               END AS time_of_week,                                \n",
    "                         num_shows,\n",
    "                         CASE WHEN num_support > 4\n",
    "                              THEN 'festival'\n",
    "                              WHEN num_shows > 1\n",
    "                              THEN 'multiple shows'\n",
    "                              WHEN LENGTH(headliner) - LENGTH(REPLACE(headliner, '/', '')) + 1 > 1\n",
    "                              THEN 'co-headliner'\n",
    "                              ELSE 'single headliner'\n",
    "                               END AS show_type, \n",
    "                         REPLACE(SPLIT_PART(headliner, '/', 1), '\"', '') AS headliner,\n",
    "                         support,\n",
    "                         num_support,\n",
    "                         tickets_sold,\n",
    "                         gross_usd,\n",
    "                         venue_capacity,\n",
    "                         percentage_sold,\n",
    "                         ticket_price_min,\n",
    "                         CASE WHEN ticket_price_max = 0\n",
    "                              THEN ticket_price_min\n",
    "                              ELSE ticket_price_max\n",
    "                          END AS ticket_price_max\n",
    "                    FROM past_shows_cte;\n",
    "                  \"\"\"\n",
    "\n",
    "cursor.execute(past_shows_view)\n",
    "cursor.execute('commit;')"
   ]
  },
  {
   "cell_type": "markdown",
   "metadata": {},
   "source": [
    "- For a number of the shows, the tour name or festival name is listed as the headliner. In order to scrape artist data from the web, the headliner name will need to be the actual headliner. This occurs about 25 times throughout the table and will be manually fixed."
   ]
  },
  {
   "cell_type": "code",
   "execution_count": 7,
   "metadata": {},
   "outputs": [],
   "source": [
    "artists_cleaned = \"\"\"\n",
    "                  CREATE VIEW v_shows_artists AS\n",
    "                  SELECT event_date,\n",
    "                         year,\n",
    "                         month,\n",
    "                         season,\n",
    "                         day_of_week,\n",
    "                         time_of_week,\n",
    "                         num_shows,\n",
    "                         show_type,\n",
    "                         CASE WHEN headliner ILIKE '%Ragga Muffins%' AND year = 2009 THEN 'K''naan'\n",
    "                              WHEN headliner ILIKE '%Ragga Muffins%' AND year = 2010 THEN 'Barrington Levy'\n",
    "                              WHEN headliner ILIKE '%Tribute to Norton Buffalo%' THEN 'Steve Miller Band'\n",
    "                              WHEN headliner ILIKE '%The HARD Tour%' THEN 'Crystal Castles'\n",
    "                              WHEN headliner ILIKE '%STS9%' THEN 'STS9'                    \n",
    "                              WHEN headliner ILIKE '%Outside Lands Music & Arts Festival%' THEN 'Sean Hayes'\n",
    "                              WHEN headliner ILIKE '%Experience Hendrix%' THEN 'Buddy Guy'\n",
    "                              WHEN headliner ILIKE '%Mos Def%' THEN 'Mos Def'\n",
    "                              WHEN headliner ILIKE '%Oakland United:%' THEN 'Primus'                    \n",
    "                              WHEN headliner ILIKE '%Les Claypool%' THEN 'Primus'\n",
    "                              WHEN headliner ILIKE '%Electric Bounce House%' THEN 'Axwell ^ Ingrosso'\n",
    "                              WHEN headliner ILIKE '%Peppa Pig%' THEN 'Peppa Pig'\n",
    "                              WHEN headliner ILIKE '%106 KMEL Holiday House Of Soul%' THEN 'Miguel'\n",
    "                              WHEN headliner ILIKE '%Julien Baker%' THEN 'Julien Baker'\n",
    "                              WHEN headliner ILIKE '%Lauryn Hill%' THEN 'Lauryn Hill'\n",
    "                              WHEN headliner ILIKE '%Ella Mai%' THEN 'Ella Mai'\n",
    "                              WHEN headliner ILIKE '%Neal Schon%' THEN 'Neal Schon'\n",
    "                              WHEN headliner ILIKE '%Chris D&#39;Elia%' THEN 'Chris D''Elia'\n",
    "                              WHEN headliner ILIKE '%The Specials%' THEN 'The Specials'\n",
    "                              WHEN headliner ILIKE '%Little Feat%' THEN 'Little Feat'\n",
    "                              WHEN headliner ILIKE '%The Flecktones%' THEN 'Bela Fleck & The Flecktones'\n",
    "                              WHEN headliner ILIKE '%Local Natives%' THEN 'Local Natives'\n",
    "                              WHEN headliner ILIKE '%Mac Dre B-day Celebration%' THEN 'Lil Jon'\n",
    "                              WHEN headliner ILIKE '%Paul Simon%' THEN 'Paul Simon'\n",
    "                              WHEN headliner ILIKE '%Kirk Franklin%' THEN 'Kirk Franklin'\n",
    "                              WHEN headliner ILIKE '%Daniel Caesar%' THEN 'Daniel Caesar'\n",
    "                              WHEN headliner ILIKE '%King Crimson%' THEN 'King Crimson'\n",
    "                              ELSE headliner\n",
    "                          END AS headliner,\n",
    "                         support,\n",
    "                         num_support,\n",
    "                         tickets_sold,\n",
    "                         gross_usd,\n",
    "                         venue_capacity,\n",
    "                         percentage_sold,\n",
    "                         ticket_price_min,\n",
    "                         ticket_price_max\n",
    "                    FROM v_past_shows\n",
    "                   WHERE headliner != 'Disney Junior House Party'\n",
    "                     AND headliner != 'The Read Live!';\n",
    "                  \"\"\"\n",
    "\n",
    "cursor.execute(artists_cleaned)\n",
    "cursor.execute('commit;')"
   ]
  },
  {
   "cell_type": "code",
   "execution_count": 8,
   "metadata": {},
   "outputs": [],
   "source": [
    "query = \"\"\"\n",
    "        SELECT *\n",
    "          FROM v_shows_artists;\n",
    "        \"\"\"\n",
    "artists_cleaned_df = pd_sql.read_sql(query, connection)"
   ]
  },
  {
   "cell_type": "code",
   "execution_count": 9,
   "metadata": {},
   "outputs": [
    {
     "name": "stdout",
     "output_type": "stream",
     "text": [
      "<class 'pandas.core.frame.DataFrame'>\n",
      "RangeIndex: 858 entries, 0 to 857\n",
      "Data columns (total 17 columns):\n",
      "event_date          858 non-null object\n",
      "year                858 non-null int64\n",
      "month               858 non-null object\n",
      "season              858 non-null object\n",
      "day_of_week         858 non-null object\n",
      "time_of_week        858 non-null object\n",
      "num_shows           858 non-null int64\n",
      "show_type           858 non-null object\n",
      "headliner           858 non-null object\n",
      "support             644 non-null object\n",
      "num_support         858 non-null int64\n",
      "tickets_sold        858 non-null float64\n",
      "gross_usd           858 non-null float64\n",
      "venue_capacity      858 non-null float64\n",
      "percentage_sold     858 non-null float64\n",
      "ticket_price_min    858 non-null float64\n",
      "ticket_price_max    858 non-null float64\n",
      "dtypes: float64(6), int64(3), object(8)\n",
      "memory usage: 114.1+ KB\n"
     ]
    }
   ],
   "source": [
    "artists_cleaned_df.info()"
   ]
  },
  {
   "cell_type": "markdown",
   "metadata": {},
   "source": [
    "# Save Final Table as Dataframe"
   ]
  },
  {
   "cell_type": "markdown",
   "metadata": {},
   "source": [
    "- For use in \"Artist_Feature_Web_Scraping\" notebook"
   ]
  },
  {
   "cell_type": "code",
   "execution_count": 59,
   "metadata": {},
   "outputs": [],
   "source": [
    "with open('Data/sql_shows_artists.pkl', 'wb') as to_write:\n",
    "    pickle.dump(artists_cleaned_df, to_write)"
   ]
  },
  {
   "cell_type": "code",
   "execution_count": null,
   "metadata": {},
   "outputs": [],
   "source": []
  }
 ],
 "metadata": {
  "kernelspec": {
   "display_name": "Python 3",
   "language": "python",
   "name": "python3"
  },
  "language_info": {
   "codemirror_mode": {
    "name": "ipython",
    "version": 3
   },
   "file_extension": ".py",
   "mimetype": "text/x-python",
   "name": "python",
   "nbconvert_exporter": "python",
   "pygments_lexer": "ipython3",
   "version": "3.7.3"
  }
 },
 "nbformat": 4,
 "nbformat_minor": 4
}
